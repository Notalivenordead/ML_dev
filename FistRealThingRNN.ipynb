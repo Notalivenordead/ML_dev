{
 "cells": [
  {
   "cell_type": "markdown",
   "metadata": {},
   "source": [
    "<h1>Basic of ML</h1>\n",
    "<h2>Theme: songs binar classification (genre)</h2>\n",
    "<h2>Done by:</h2>\n",
    "<h2>BDA</h2>\n",
    "<h2>KBS</h2>"
   ]
  },
  {
   "cell_type": "markdown",
   "metadata": {},
   "source": [
    "<H1>Введение</H1>\n",
    "<H2>Актуальность классификации песен по жанрам неоспарима: 62% пользователей во всем мире слушают музыку через сервисы потоковый музыки (стриминг), например Яндекс музыка или Spotify, (по данным GlobalWebIndex за IV квартал 2016 г.)  в дальнейшем наблюдалась тенденция увеличения данного показателя. Люди, слушающие определёные жанры, хотят находить похожие песни по тексту, жанру, эстетике и тому подобное, следовательно, песни нужно классфицировать по данным признакам, из которых наиболее значемые - текст песни и её жанр, откуда жанр является определяющим, поэтому именно его мы и классифицируем.</H2>\n",
    "<H2>Классификация песен по жанрам — это процесс автоматического (или ручного) распределения музыкальных композиций по стилям (жанрам), таким как поп и рэп. Основной целью данного процесса является упрощение поиска и рекомендации музыки, анализ пользовательских предпочтений.</H2>"
   ]
  },
  {
   "cell_type": "markdown",
   "metadata": {},
   "source": [
    "<H1>Практическая реализация</H1>"
   ]
  },
  {
   "cell_type": "markdown",
   "metadata": {},
   "source": [
    "<h2>Импорт библиотек и нужных модулей</h2>"
   ]
  },
  {
   "cell_type": "code",
   "execution_count": 2,
   "metadata": {},
   "outputs": [
    {
     "name": "stderr",
     "output_type": "stream",
     "text": [
      "[nltk_data] Downloading package stopwords to\n",
      "[nltk_data]     C:\\Users\\dibus\\AppData\\Roaming\\nltk_data...\n",
      "[nltk_data]   Package stopwords is already up-to-date!\n",
      "[nltk_data] Downloading package wordnet to\n",
      "[nltk_data]     C:\\Users\\dibus\\AppData\\Roaming\\nltk_data...\n",
      "[nltk_data]   Package wordnet is already up-to-date!\n"
     ]
    },
    {
     "data": {
      "text/plain": [
       "True"
      ]
     },
     "execution_count": 2,
     "metadata": {},
     "output_type": "execute_result"
    }
   ],
   "source": [
    "import numpy as np, pandas as pd, seaborn as sns, re, nltk,  matplotlib.pyplot as plt\n",
    "from keras.models import Sequential\n",
    "from keras.layers import Dense, Dropout, LSTM, Embedding\n",
    "from keras.preprocessing.sequence import pad_sequences\n",
    "from tensorflow.keras.preprocessing.text import Tokenizer\n",
    "from sklearn.model_selection import train_test_split\n",
    "from sklearn.utils.class_weight import compute_class_weight\n",
    "from sklearn.metrics import classification_report, confusion_matrix\n",
    "from nltk.corpus import stopwords, wordnet\n",
    "nltk.download('stopwords')\n",
    "nltk.download('wordnet')"
   ]
  },
  {
   "cell_type": "markdown",
   "metadata": {},
   "source": [
    "<h2>Загрузка данных и их анализ</h2>"
   ]
  },
  {
   "cell_type": "code",
   "execution_count": 3,
   "metadata": {},
   "outputs": [
    {
     "data": {
      "text/html": [
       "<div>\n",
       "<style scoped>\n",
       "    .dataframe tbody tr th:only-of-type {\n",
       "        vertical-align: middle;\n",
       "    }\n",
       "\n",
       "    .dataframe tbody tr th {\n",
       "        vertical-align: top;\n",
       "    }\n",
       "\n",
       "    .dataframe thead th {\n",
       "        text-align: right;\n",
       "    }\n",
       "</style>\n",
       "<table border=\"1\" class=\"dataframe\">\n",
       "  <thead>\n",
       "    <tr style=\"text-align: right;\">\n",
       "      <th></th>\n",
       "      <th>lyric</th>\n",
       "      <th>class</th>\n",
       "    </tr>\n",
       "  </thead>\n",
       "  <tbody>\n",
       "    <tr>\n",
       "      <th>51049</th>\n",
       "      <td>I told her pour me some more, then she went ri...</td>\n",
       "      <td>0</td>\n",
       "    </tr>\n",
       "    <tr>\n",
       "      <th>51050</th>\n",
       "      <td>Hit the ground and crawl to the dresser</td>\n",
       "      <td>0</td>\n",
       "    </tr>\n",
       "    <tr>\n",
       "      <th>51051</th>\n",
       "      <td>Just keep breathin' and breathin' and breathin...</td>\n",
       "      <td>1</td>\n",
       "    </tr>\n",
       "    <tr>\n",
       "      <th>51052</th>\n",
       "      <td>Down go the system, long live the king (King)</td>\n",
       "      <td>0</td>\n",
       "    </tr>\n",
       "    <tr>\n",
       "      <th>51053</th>\n",
       "      <td>If your mother knew all the things we do (From...</td>\n",
       "      <td>1</td>\n",
       "    </tr>\n",
       "  </tbody>\n",
       "</table>\n",
       "</div>"
      ],
      "text/plain": [
       "                                                   lyric  class\n",
       "51049  I told her pour me some more, then she went ri...      0\n",
       "51050            Hit the ground and crawl to the dresser      0\n",
       "51051  Just keep breathin' and breathin' and breathin...      1\n",
       "51052      Down go the system, long live the king (King)      0\n",
       "51053  If your mother knew all the things we do (From...      1"
      ]
     },
     "metadata": {},
     "output_type": "display_data"
    },
    {
     "data": {
      "text/html": [
       "<div>\n",
       "<style scoped>\n",
       "    .dataframe tbody tr th:only-of-type {\n",
       "        vertical-align: middle;\n",
       "    }\n",
       "\n",
       "    .dataframe tbody tr th {\n",
       "        vertical-align: top;\n",
       "    }\n",
       "\n",
       "    .dataframe thead th {\n",
       "        text-align: right;\n",
       "    }\n",
       "</style>\n",
       "<table border=\"1\" class=\"dataframe\">\n",
       "  <thead>\n",
       "    <tr style=\"text-align: right;\">\n",
       "      <th></th>\n",
       "      <th>class</th>\n",
       "    </tr>\n",
       "  </thead>\n",
       "  <tbody>\n",
       "    <tr>\n",
       "      <th>count</th>\n",
       "      <td>51054.000000</td>\n",
       "    </tr>\n",
       "    <tr>\n",
       "      <th>mean</th>\n",
       "      <td>0.434227</td>\n",
       "    </tr>\n",
       "    <tr>\n",
       "      <th>std</th>\n",
       "      <td>0.495660</td>\n",
       "    </tr>\n",
       "    <tr>\n",
       "      <th>min</th>\n",
       "      <td>0.000000</td>\n",
       "    </tr>\n",
       "    <tr>\n",
       "      <th>25%</th>\n",
       "      <td>0.000000</td>\n",
       "    </tr>\n",
       "    <tr>\n",
       "      <th>50%</th>\n",
       "      <td>0.000000</td>\n",
       "    </tr>\n",
       "    <tr>\n",
       "      <th>75%</th>\n",
       "      <td>1.000000</td>\n",
       "    </tr>\n",
       "    <tr>\n",
       "      <th>max</th>\n",
       "      <td>1.000000</td>\n",
       "    </tr>\n",
       "  </tbody>\n",
       "</table>\n",
       "</div>"
      ],
      "text/plain": [
       "              class\n",
       "count  51054.000000\n",
       "mean       0.434227\n",
       "std        0.495660\n",
       "min        0.000000\n",
       "25%        0.000000\n",
       "50%        0.000000\n",
       "75%        1.000000\n",
       "max        1.000000"
      ]
     },
     "metadata": {},
     "output_type": "display_data"
    },
    {
     "name": "stdout",
     "output_type": "stream",
     "text": [
      "<class 'pandas.core.frame.DataFrame'>\n",
      "RangeIndex: 51054 entries, 0 to 51053\n",
      "Data columns (total 2 columns):\n",
      " #   Column  Non-Null Count  Dtype \n",
      "---  ------  --------------  ----- \n",
      " 0   lyric   51054 non-null  object\n",
      " 1   class   51054 non-null  int64 \n",
      "dtypes: int64(1), object(1)\n",
      "memory usage: 797.8+ KB\n"
     ]
    }
   ],
   "source": [
    "# Загрузка данных\n",
    "df_train = pd.read_csv(\"train.csv\", sep=',')\n",
    "df_test = pd.read_csv(\"test.csv\", sep=',')\n",
    "\n",
    "# Анализ train.csv\n",
    "display(df_train.tail(5))\n",
    "display(df_train.describe())\n",
    "df_train.info()"
   ]
  },
  {
   "cell_type": "code",
   "execution_count": 4,
   "metadata": {},
   "outputs": [
    {
     "data": {
      "text/html": [
       "<div>\n",
       "<style scoped>\n",
       "    .dataframe tbody tr th:only-of-type {\n",
       "        vertical-align: middle;\n",
       "    }\n",
       "\n",
       "    .dataframe tbody tr th {\n",
       "        vertical-align: top;\n",
       "    }\n",
       "\n",
       "    .dataframe thead th {\n",
       "        text-align: right;\n",
       "    }\n",
       "</style>\n",
       "<table border=\"1\" class=\"dataframe\">\n",
       "  <thead>\n",
       "    <tr style=\"text-align: right;\">\n",
       "      <th></th>\n",
       "      <th>id</th>\n",
       "      <th>lyric</th>\n",
       "    </tr>\n",
       "  </thead>\n",
       "  <tbody>\n",
       "    <tr>\n",
       "      <th>2671</th>\n",
       "      <td>2671</td>\n",
       "      <td>So tell me, how deep is your love?</td>\n",
       "    </tr>\n",
       "    <tr>\n",
       "      <th>2672</th>\n",
       "      <td>2672</td>\n",
       "      <td>If this is all we're living for</td>\n",
       "    </tr>\n",
       "    <tr>\n",
       "      <th>2673</th>\n",
       "      <td>2673</td>\n",
       "      <td>I'll never let up on the pedal, might as well ...</td>\n",
       "    </tr>\n",
       "    <tr>\n",
       "      <th>2674</th>\n",
       "      <td>2674</td>\n",
       "      <td>Turned my temple down into a prison, s***</td>\n",
       "    </tr>\n",
       "    <tr>\n",
       "      <th>2675</th>\n",
       "      <td>2675</td>\n",
       "      <td>Yeah that's a fact, but I never been p****</td>\n",
       "    </tr>\n",
       "  </tbody>\n",
       "</table>\n",
       "</div>"
      ],
      "text/plain": [
       "        id                                              lyric\n",
       "2671  2671                 So tell me, how deep is your love?\n",
       "2672  2672                    If this is all we're living for\n",
       "2673  2673  I'll never let up on the pedal, might as well ...\n",
       "2674  2674          Turned my temple down into a prison, s***\n",
       "2675  2675         Yeah that's a fact, but I never been p****"
      ]
     },
     "metadata": {},
     "output_type": "display_data"
    },
    {
     "data": {
      "text/html": [
       "<div>\n",
       "<style scoped>\n",
       "    .dataframe tbody tr th:only-of-type {\n",
       "        vertical-align: middle;\n",
       "    }\n",
       "\n",
       "    .dataframe tbody tr th {\n",
       "        vertical-align: top;\n",
       "    }\n",
       "\n",
       "    .dataframe thead th {\n",
       "        text-align: right;\n",
       "    }\n",
       "</style>\n",
       "<table border=\"1\" class=\"dataframe\">\n",
       "  <thead>\n",
       "    <tr style=\"text-align: right;\">\n",
       "      <th></th>\n",
       "      <th>id</th>\n",
       "    </tr>\n",
       "  </thead>\n",
       "  <tbody>\n",
       "    <tr>\n",
       "      <th>count</th>\n",
       "      <td>2676.000000</td>\n",
       "    </tr>\n",
       "    <tr>\n",
       "      <th>mean</th>\n",
       "      <td>1337.500000</td>\n",
       "    </tr>\n",
       "    <tr>\n",
       "      <th>std</th>\n",
       "      <td>772.638984</td>\n",
       "    </tr>\n",
       "    <tr>\n",
       "      <th>min</th>\n",
       "      <td>0.000000</td>\n",
       "    </tr>\n",
       "    <tr>\n",
       "      <th>25%</th>\n",
       "      <td>668.750000</td>\n",
       "    </tr>\n",
       "    <tr>\n",
       "      <th>50%</th>\n",
       "      <td>1337.500000</td>\n",
       "    </tr>\n",
       "    <tr>\n",
       "      <th>75%</th>\n",
       "      <td>2006.250000</td>\n",
       "    </tr>\n",
       "    <tr>\n",
       "      <th>max</th>\n",
       "      <td>2675.000000</td>\n",
       "    </tr>\n",
       "  </tbody>\n",
       "</table>\n",
       "</div>"
      ],
      "text/plain": [
       "                id\n",
       "count  2676.000000\n",
       "mean   1337.500000\n",
       "std     772.638984\n",
       "min       0.000000\n",
       "25%     668.750000\n",
       "50%    1337.500000\n",
       "75%    2006.250000\n",
       "max    2675.000000"
      ]
     },
     "metadata": {},
     "output_type": "display_data"
    },
    {
     "name": "stdout",
     "output_type": "stream",
     "text": [
      "<class 'pandas.core.frame.DataFrame'>\n",
      "RangeIndex: 2676 entries, 0 to 2675\n",
      "Data columns (total 2 columns):\n",
      " #   Column  Non-Null Count  Dtype \n",
      "---  ------  --------------  ----- \n",
      " 0   id      2676 non-null   int64 \n",
      " 1   lyric   2676 non-null   object\n",
      "dtypes: int64(1), object(1)\n",
      "memory usage: 41.9+ KB\n"
     ]
    }
   ],
   "source": [
    "# Анализ test.csv\n",
    "display(df_test.tail(5))\n",
    "display(df_test.describe())\n",
    "df_test.info()"
   ]
  },
  {
   "cell_type": "markdown",
   "metadata": {},
   "source": [
    "<h2>Предобработка данных</h2>"
   ]
  },
  {
   "cell_type": "code",
   "execution_count": 5,
   "metadata": {},
   "outputs": [
    {
     "data": {
      "text/html": [
       "<div>\n",
       "<style scoped>\n",
       "    .dataframe tbody tr th:only-of-type {\n",
       "        vertical-align: middle;\n",
       "    }\n",
       "\n",
       "    .dataframe tbody tr th {\n",
       "        vertical-align: top;\n",
       "    }\n",
       "\n",
       "    .dataframe thead th {\n",
       "        text-align: right;\n",
       "    }\n",
       "</style>\n",
       "<table border=\"1\" class=\"dataframe\">\n",
       "  <thead>\n",
       "    <tr style=\"text-align: right;\">\n",
       "      <th></th>\n",
       "      <th>lyric</th>\n",
       "      <th>class</th>\n",
       "      <th>genre</th>\n",
       "    </tr>\n",
       "  </thead>\n",
       "  <tbody>\n",
       "    <tr>\n",
       "      <th>0</th>\n",
       "      <td>Can't drink without thinkin' about you</td>\n",
       "      <td>1</td>\n",
       "      <td>pop</td>\n",
       "    </tr>\n",
       "    <tr>\n",
       "      <th>1</th>\n",
       "      <td>Now Lil Pump flyin' private jet (Yuh)</td>\n",
       "      <td>0</td>\n",
       "      <td>rap</td>\n",
       "    </tr>\n",
       "    <tr>\n",
       "      <th>2</th>\n",
       "      <td>No matter fact you ain't help me when I had no...</td>\n",
       "      <td>0</td>\n",
       "      <td>rap</td>\n",
       "    </tr>\n",
       "    <tr>\n",
       "      <th>3</th>\n",
       "      <td>And you could find me I ain't hidin'</td>\n",
       "      <td>0</td>\n",
       "      <td>rap</td>\n",
       "    </tr>\n",
       "    <tr>\n",
       "      <th>4</th>\n",
       "      <td>From the way you talk to the way you move</td>\n",
       "      <td>1</td>\n",
       "      <td>pop</td>\n",
       "    </tr>\n",
       "    <tr>\n",
       "      <th>...</th>\n",
       "      <td>...</td>\n",
       "      <td>...</td>\n",
       "      <td>...</td>\n",
       "    </tr>\n",
       "    <tr>\n",
       "      <th>51049</th>\n",
       "      <td>I told her pour me some more then she went rig...</td>\n",
       "      <td>0</td>\n",
       "      <td>rap</td>\n",
       "    </tr>\n",
       "    <tr>\n",
       "      <th>51050</th>\n",
       "      <td>Hit the ground and crawl to the dresser</td>\n",
       "      <td>0</td>\n",
       "      <td>rap</td>\n",
       "    </tr>\n",
       "    <tr>\n",
       "      <th>51051</th>\n",
       "      <td>Just keep breathin' and breathin' and breathin...</td>\n",
       "      <td>1</td>\n",
       "      <td>pop</td>\n",
       "    </tr>\n",
       "    <tr>\n",
       "      <th>51052</th>\n",
       "      <td>Down go the system long live the king (King)</td>\n",
       "      <td>0</td>\n",
       "      <td>rap</td>\n",
       "    </tr>\n",
       "    <tr>\n",
       "      <th>51053</th>\n",
       "      <td>If your mother knew all the things we do (From...</td>\n",
       "      <td>1</td>\n",
       "      <td>pop</td>\n",
       "    </tr>\n",
       "  </tbody>\n",
       "</table>\n",
       "<p>51054 rows × 3 columns</p>\n",
       "</div>"
      ],
      "text/plain": [
       "                                                   lyric  class genre\n",
       "0                 Can't drink without thinkin' about you      1   pop\n",
       "1                  Now Lil Pump flyin' private jet (Yuh)      0   rap\n",
       "2      No matter fact you ain't help me when I had no...      0   rap\n",
       "3                   And you could find me I ain't hidin'      0   rap\n",
       "4              From the way you talk to the way you move      1   pop\n",
       "...                                                  ...    ...   ...\n",
       "51049  I told her pour me some more then she went rig...      0   rap\n",
       "51050            Hit the ground and crawl to the dresser      0   rap\n",
       "51051  Just keep breathin' and breathin' and breathin...      1   pop\n",
       "51052       Down go the system long live the king (King)      0   rap\n",
       "51053  If your mother knew all the things we do (From...      1   pop\n",
       "\n",
       "[51054 rows x 3 columns]"
      ]
     },
     "metadata": {},
     "output_type": "display_data"
    }
   ],
   "source": [
    "# Обработка данных\n",
    "target_map = {1: 'pop', 0: 'rap'}\n",
    "df_train['genre'] = df_train['class'].map(target_map)\n",
    "df_train['lyric'] = df_train['lyric'].str.replace(',', '')\n",
    "\n",
    "display(df_train)"
   ]
  },
  {
   "cell_type": "markdown",
   "metadata": {},
   "source": [
    "<h2>Аугментация данных</h2>"
   ]
  },
  {
   "cell_type": "code",
   "execution_count": 6,
   "metadata": {},
   "outputs": [],
   "source": [
    "# Аугментация данных \"шумом\" - функция\n",
    "def augment_text(text, num_augments=5):\n",
    "    \"\"\"\n",
    "    Функция для аугментации с помощью \"шумов\".\n",
    "    \n",
    "    Args:\n",
    "        text (str): Входной текст.\n",
    "        num_augments (int): Максимальная длина последовательности.\n",
    "    \n",
    "    Returns:\n",
    "        list: массив предложений с \"шумами\".\n",
    "    \"\"\"\n",
    "    augmented_texts = []\n",
    "    words = text.split()\n",
    "    for _ in range(num_augments):\n",
    "        # Перемешиваем слова\n",
    "        permuted = np.random.permutation(words)\n",
    "        # Добавляем небольшой шум в текст\n",
    "        noise = [\"xxrandom\"] * np.random.randint(1, 3)\n",
    "        augmented = \" \".join(list(permuted) + noise)\n",
    "        augmented_texts.append(augmented)\n",
    "    return augmented_texts\n",
    "\n",
    "# Аугментация для класса \"pop\"\n",
    "pop_texts = df_train[df_train['class'] == 1]['lyric']\n",
    "augmented_pop_texts = pop_texts.apply(lambda x: augment_text(x)).explode()\n",
    "augmented_pop_labels = [1] * len(augmented_pop_texts)\n",
    "\n",
    "# Объединение с оригинальным набором данных\n",
    "df_augmented = pd.DataFrame({'lyric': augmented_pop_texts, 'class': augmented_pop_labels})\n",
    "df_train = pd.concat([df_train, df_augmented], ignore_index=True)\n",
    "\n",
    "# Аугментация синонимами - функция\n",
    "def synonym_augmentation(text, num_augments=4):\n",
    "    \"\"\"\n",
    "    Функция для аугментации с помощью синонимов.\n",
    "    \n",
    "    Args:\n",
    "        text (str): Входной текст.\n",
    "        num_augments (int): Максимальная длина последовательности.\n",
    "    \n",
    "    Returns:\n",
    "        list: массив предложений, созданных из синонимов.\n",
    "    \"\"\"\n",
    "    words = text.split()\n",
    "    augmented_texts = []\n",
    "    for _ in range(num_augments):\n",
    "        new_words = []\n",
    "        for word in words:\n",
    "            synonyms = wordnet.synsets(word)\n",
    "            if synonyms:\n",
    "                new_word = synonyms[0].lemmas()[0].name()  # Первый синоним\n",
    "                new_words.append(new_word)\n",
    "            else:\n",
    "                new_words.append(word)\n",
    "        augmented_texts.append(\" \".join(new_words))\n",
    "    return augmented_texts\n",
    "\n",
    "#аугментация для \"rap\"\n",
    "rap_texts = df_train[df_train['class'] == 0]['lyric']\n",
    "augmented_rap_texts = rap_texts.apply(lambda x: synonym_augmentation(x)).explode()\n",
    "augmented_rap_labels = [0] * len(augmented_rap_texts)\n",
    "\n",
    "# Объединение с оригинальным набором данных\n",
    "df_augmented_rap = pd.DataFrame({'lyric': augmented_rap_texts, 'class': augmented_rap_labels})\n",
    "df_train = pd.concat([df_train, df_augmented_rap], ignore_index=True)\n",
    "\n",
    "# Подготовка текста и меток\n",
    "train_text = df_train['lyric']\n",
    "train_label = df_train['class']\n"
   ]
  },
  {
   "cell_type": "markdown",
   "metadata": {},
   "source": [
    "<h2>Токенизация</h2>"
   ]
  },
  {
   "cell_type": "code",
   "execution_count": 7,
   "metadata": {},
   "outputs": [],
   "source": [
    "# параметры текста\n",
    "num_words = 10000\n",
    "max_len = 100\n",
    "\n",
    "# токенизация\n",
    "tokenizer = Tokenizer(num_words=num_words)\n",
    "tokenizer.fit_on_texts(train_text)\n",
    "\n",
    "x_seq = tokenizer.texts_to_sequences(train_text)\n",
    "x_pad = pad_sequences(x_seq, maxlen=max_len)\n",
    "\n",
    "y = np.array(train_label)"
   ]
  },
  {
   "cell_type": "markdown",
   "metadata": {},
   "source": [
    "<h2>Разделение данных на выборки</h2>"
   ]
  },
  {
   "cell_type": "code",
   "execution_count": 8,
   "metadata": {},
   "outputs": [
    {
     "name": "stdout",
     "output_type": "stream",
     "text": [
      "Данные для тренировки: (221951, 100), Данные для валидации: (27744, 100), Данные для тестировки: (27744, 100)\n"
     ]
    }
   ],
   "source": [
    "# Разделение на train (80%), val (10%) и test (10%)\n",
    "x_train, x_temp, y_train, y_temp = train_test_split(x_pad, y, test_size=0.2, random_state=42)\n",
    "x_val, x_test, y_val, y_test = train_test_split(x_temp, y_temp, test_size=0.5, random_state=42)\n",
    "\n",
    "print(f\"Данные для тренировки: {x_train.shape}, Данные для валидации: {x_val.shape}, Данные для тестировки: {x_test.shape}\")"
   ]
  },
  {
   "cell_type": "markdown",
   "metadata": {},
   "source": [
    "<h2>Смотрим весы классов</h2>"
   ]
  },
  {
   "cell_type": "code",
   "execution_count": 9,
   "metadata": {},
   "outputs": [
    {
     "name": "stdout",
     "output_type": "stream",
     "text": [
      "Class weights: {0: 0.9605690247639161, 1: 1.042806803232475}\n"
     ]
    }
   ],
   "source": [
    "# Балансировка классов\n",
    "class_weights = compute_class_weight('balanced', classes=np.unique(y_train), y=y_train)\n",
    "class_weights_dict = {i: weight for i, weight in enumerate(class_weights)}\n",
    "print(\"Class weights:\", class_weights_dict)"
   ]
  },
  {
   "cell_type": "markdown",
   "metadata": {},
   "source": [
    "<h2>Последовательная модель с:\n",
    "<ul>\n",
    "    <li>Эмбендингом (преобразование индексов в векторы): вход (количество векторов) - 10000, выход (размерность векторного представления) - 100, входная длина (последовательности)- 100</li>\n",
    "    <li>Регуляризация - dropout в 20% (ограничения для предотвращения переобучения)</li>\n",
    "    <li>LSTM (Long-Short Term Memory) - слой есть рекуррентный слой для обработки последовательных данных с 32 нейронами</li>\n",
    "    <li>Dense - полносвязный слой с ReLU-активацией и 256-ю нейронами</li>\n",
    "    <li>Регуляризация в 20%</li>\n",
    "    <li>Выходной dense с активацией для бинарной классификации с 1 нейроном</li>\n",
    "</ul>\n",
    "</h2>"
   ]
  },
  {
   "cell_type": "code",
   "execution_count": 10,
   "metadata": {},
   "outputs": [
    {
     "name": "stderr",
     "output_type": "stream",
     "text": [
      "C:\\Users\\dibus\\AppData\\Local\\Packages\\PythonSoftwareFoundation.Python.3.12_qbz5n2kfra8p0\\LocalCache\\local-packages\\Python312\\site-packages\\keras\\src\\layers\\core\\embedding.py:90: UserWarning: Argument `input_length` is deprecated. Just remove it.\n",
      "  warnings.warn(\n"
     ]
    }
   ],
   "source": [
    "# Создание модели\n",
    "model = Sequential([\n",
    "    Embedding(input_dim=num_words, output_dim=100, input_length=max_len),\n",
    "    Dropout(0.2),\n",
    "    LSTM(32),\n",
    "    Dense(256, activation='relu'),\n",
    "    Dropout(0.2),\n",
    "    Dense(1, activation='sigmoid')])\n"
   ]
  },
  {
   "cell_type": "code",
   "execution_count": 11,
   "metadata": {},
   "outputs": [],
   "source": [
    "# Компиляция модели\n",
    "model.compile(loss='binary_crossentropy', optimizer='adam', metrics=['accuracy', 'AUC'])"
   ]
  },
  {
   "cell_type": "markdown",
   "metadata": {},
   "source": [
    "<h2>Обучение модели</h2>"
   ]
  },
  {
   "cell_type": "code",
   "execution_count": 12,
   "metadata": {},
   "outputs": [
    {
     "name": "stdout",
     "output_type": "stream",
     "text": [
      "Epoch 1/4\n",
      "\u001b[1m2220/2220\u001b[0m \u001b[32m━━━━━━━━━━━━━━━━━━━━\u001b[0m\u001b[37m\u001b[0m \u001b[1m56s\u001b[0m 24ms/step - AUC: 0.9853 - accuracy: 0.9426 - loss: 0.1471 - val_AUC: 0.9953 - val_accuracy: 0.9631 - val_loss: 0.0866\n",
      "Epoch 2/4\n",
      "\u001b[1m2220/2220\u001b[0m \u001b[32m━━━━━━━━━━━━━━━━━━━━\u001b[0m\u001b[37m\u001b[0m \u001b[1m53s\u001b[0m 24ms/step - AUC: 0.9963 - accuracy: 0.9677 - loss: 0.0756 - val_AUC: 0.9959 - val_accuracy: 0.9654 - val_loss: 0.0818\n",
      "Epoch 3/4\n",
      "\u001b[1m2220/2220\u001b[0m \u001b[32m━━━━━━━━━━━━━━━━━━━━\u001b[0m\u001b[37m\u001b[0m \u001b[1m53s\u001b[0m 24ms/step - AUC: 0.9976 - accuracy: 0.9736 - loss: 0.0617 - val_AUC: 0.9958 - val_accuracy: 0.9681 - val_loss: 0.0774\n",
      "Epoch 4/4\n",
      "\u001b[1m2220/2220\u001b[0m \u001b[32m━━━━━━━━━━━━━━━━━━━━\u001b[0m\u001b[37m\u001b[0m \u001b[1m54s\u001b[0m 24ms/step - AUC: 0.9984 - accuracy: 0.9787 - loss: 0.0501 - val_AUC: 0.9949 - val_accuracy: 0.9691 - val_loss: 0.0818\n"
     ]
    }
   ],
   "source": [
    "# Обучение модели\n",
    "history = model.fit(\n",
    "    x_train, y_train,\n",
    "    validation_data=(x_val, y_val),\n",
    "    batch_size=100,\n",
    "    epochs=4,\n",
    "    class_weight=class_weights_dict\n",
    ")"
   ]
  },
  {
   "cell_type": "markdown",
   "metadata": {},
   "source": [
    "<h2>Анализ модели</h2>"
   ]
  },
  {
   "cell_type": "code",
   "execution_count": 13,
   "metadata": {},
   "outputs": [
    {
     "name": "stdout",
     "output_type": "stream",
     "text": [
      "\u001b[1m867/867\u001b[0m \u001b[32m━━━━━━━━━━━━━━━━━━━━\u001b[0m\u001b[37m\u001b[0m \u001b[1m5s\u001b[0m 5ms/step\n",
      "Test Loss: 0.0869, Test Accuracy: 0.9687, Test AUC: 0.9945\n",
      "Classification Report:\n",
      "              precision    recall  f1-score   support\n",
      "\n",
      "         rap       0.97      0.97      0.97     14401\n",
      "         pop       0.97      0.97      0.97     13343\n",
      "\n",
      "    accuracy                           0.97     27744\n",
      "   macro avg       0.97      0.97      0.97     27744\n",
      "weighted avg       0.97      0.97      0.97     27744\n",
      "\n"
     ]
    }
   ],
   "source": [
    "# Оценка модели на тестовой выборке\n",
    "y_pred = (model.predict(x_test) > 0.5).astype(\"int32\")\n",
    "\n",
    "results = model.evaluate(x_test, y_test, verbose=0)\n",
    "print(f\"Test Loss: {results[0]:.4f}, Test Accuracy: {results[1]:.4f}, Test AUC: {results[2]:.4f}\")\n",
    "\n",
    "# Отчёт классификации\n",
    "print(\"Classification Report:\")\n",
    "print(classification_report(y_test, y_pred, target_names=['rap', 'pop']))\n"
   ]
  },
  {
   "cell_type": "markdown",
   "metadata": {},
   "source": [
    "<h2>Графики обучения (точности и потерь)</h2>"
   ]
  },
  {
   "cell_type": "code",
   "execution_count": 14,
   "metadata": {},
   "outputs": [
    {
     "data": {
      "image/png": "[encoded data removed]",
      "text/plain": [
       "<Figure size 1200x600 with 2 Axes>"
      ]
     },
     "metadata": {},
     "output_type": "display_data"
    }
   ],
   "source": [
    "# Построение графиков обучения\n",
    "plt.figure(figsize=(12, 6))\n",
    "\n",
    "# Точность\n",
    "plt.subplot(1, 2, 1)\n",
    "plt.plot(history.history['accuracy'], label='Train Accuracy')\n",
    "plt.plot(history.history['val_accuracy'], label='Validation Accuracy')\n",
    "plt.title('Accuracy over Epochs')\n",
    "plt.xlabel('Epochs')\n",
    "plt.ylabel('Accuracy')\n",
    "plt.legend()\n",
    "\n",
    "# Ошибка\n",
    "plt.subplot(1, 2, 2)\n",
    "plt.plot(history.history['loss'], label='Train Loss')\n",
    "plt.plot(history.history['val_loss'], label='Validation Loss')\n",
    "plt.title('Loss over Epochs')\n",
    "plt.xlabel('Epochs')\n",
    "plt.ylabel('Loss')\n",
    "plt.legend()\n",
    "\n",
    "plt.show()"
   ]
  },
  {
   "cell_type": "markdown",
   "metadata": {},
   "source": [
    "<h2>Матрица ошибок</h2>"
   ]
  },
  {
   "cell_type": "code",
   "execution_count": 15,
   "metadata": {},
   "outputs": [
    {
     "data": {
      "image/png": "[encoded data removed]",
      "text/plain": [
       "<Figure size 600x600 with 2 Axes>"
      ]
     },
     "metadata": {},
     "output_type": "display_data"
    }
   ],
   "source": [
    "# Матрица ошибок\n",
    "cm = confusion_matrix(y_test, y_pred)\n",
    "plt.figure(figsize=(6, 6))\n",
    "sns.heatmap(cm, annot=True, fmt=\"d\", cmap=\"Blues\", xticklabels=['rap', 'pop'], yticklabels=['rap', 'pop'])\n",
    "plt.xlabel('Predicted')\n",
    "plt.ylabel('True')\n",
    "plt.title('Confusion Matrix')\n",
    "plt.show()"
   ]
  },
  {
   "cell_type": "markdown",
   "metadata": {},
   "source": [
    "<h2>Предсказания на тестовой выборке с сохранением результатов</h2>"
   ]
  },
  {
   "cell_type": "code",
   "execution_count": 16,
   "metadata": {},
   "outputs": [
    {
     "name": "stdout",
     "output_type": "stream",
     "text": [
      "\u001b[1m84/84\u001b[0m \u001b[32m━━━━━━━━━━━━━━━━━━━━\u001b[0m\u001b[37m\u001b[0m \u001b[1m0s\u001b[0m 6ms/step\n",
      "Предсказания на test.csv сохранены в test_with_predictions.csv\n"
     ]
    }
   ],
   "source": [
    "# Предсказание на test.csv (без меток)\n",
    "df_test['lyric'] = df_test['lyric'].str.replace(',', '')\n",
    "x_test_final = tokenizer.texts_to_sequences(df_test['lyric'])\n",
    "x_test_final = pad_sequences(x_test_final, maxlen=max_len)\n",
    "\n",
    "y_pred_test = (model.predict(x_test_final) > 0.5).astype(\"int32\")\n",
    "df_test['predicted_class'] = y_pred_test\n",
    "df_test['predicted_genre'] = df_test['predicted_class'].map(target_map)\n",
    "\n",
    "# Сохранение предсказаний\n",
    "df_test.to_csv(\"test_with_predictions.csv\", index=False)\n",
    "print(\"Предсказания на test.csv сохранены в test_with_predictions.csv\")"
   ]
  },
  {
   "cell_type": "code",
   "execution_count": 17,
   "metadata": {},
   "outputs": [
    {
     "data": {
      "text/html": [
       "<div>\n",
       "<style scoped>\n",
       "    .dataframe tbody tr th:only-of-type {\n",
       "        vertical-align: middle;\n",
       "    }\n",
       "\n",
       "    .dataframe tbody tr th {\n",
       "        vertical-align: top;\n",
       "    }\n",
       "\n",
       "    .dataframe thead th {\n",
       "        text-align: right;\n",
       "    }\n",
       "</style>\n",
       "<table border=\"1\" class=\"dataframe\">\n",
       "  <thead>\n",
       "    <tr style=\"text-align: right;\">\n",
       "      <th></th>\n",
       "      <th>id</th>\n",
       "      <th>lyric</th>\n",
       "      <th>predicted_class</th>\n",
       "      <th>predicted_genre</th>\n",
       "    </tr>\n",
       "  </thead>\n",
       "  <tbody>\n",
       "    <tr>\n",
       "      <th>0</th>\n",
       "      <td>0</td>\n",
       "      <td>Now they know my name wherever I go</td>\n",
       "      <td>1</td>\n",
       "      <td>pop</td>\n",
       "    </tr>\n",
       "    <tr>\n",
       "      <th>1</th>\n",
       "      <td>1</td>\n",
       "      <td>If your girl don't get it poppin' put me on yo...</td>\n",
       "      <td>1</td>\n",
       "      <td>pop</td>\n",
       "    </tr>\n",
       "    <tr>\n",
       "      <th>2</th>\n",
       "      <td>2</td>\n",
       "      <td>P1 cleaner than your church shoes ah</td>\n",
       "      <td>1</td>\n",
       "      <td>pop</td>\n",
       "    </tr>\n",
       "    <tr>\n",
       "      <th>3</th>\n",
       "      <td>3</td>\n",
       "      <td>Bodies start to drop ayy (Hit the floor)</td>\n",
       "      <td>0</td>\n",
       "      <td>rap</td>\n",
       "    </tr>\n",
       "    <tr>\n",
       "      <th>4</th>\n",
       "      <td>4</td>\n",
       "      <td>I don't look to the sky no mo'</td>\n",
       "      <td>0</td>\n",
       "      <td>rap</td>\n",
       "    </tr>\n",
       "    <tr>\n",
       "      <th>...</th>\n",
       "      <td>...</td>\n",
       "      <td>...</td>\n",
       "      <td>...</td>\n",
       "      <td>...</td>\n",
       "    </tr>\n",
       "    <tr>\n",
       "      <th>2671</th>\n",
       "      <td>2671</td>\n",
       "      <td>So tell me how deep is your love?</td>\n",
       "      <td>1</td>\n",
       "      <td>pop</td>\n",
       "    </tr>\n",
       "    <tr>\n",
       "      <th>2672</th>\n",
       "      <td>2672</td>\n",
       "      <td>If this is all we're living for</td>\n",
       "      <td>1</td>\n",
       "      <td>pop</td>\n",
       "    </tr>\n",
       "    <tr>\n",
       "      <th>2673</th>\n",
       "      <td>2673</td>\n",
       "      <td>I'll never let up on the pedal might as well g...</td>\n",
       "      <td>0</td>\n",
       "      <td>rap</td>\n",
       "    </tr>\n",
       "    <tr>\n",
       "      <th>2674</th>\n",
       "      <td>2674</td>\n",
       "      <td>Turned my temple down into a prison s***</td>\n",
       "      <td>0</td>\n",
       "      <td>rap</td>\n",
       "    </tr>\n",
       "    <tr>\n",
       "      <th>2675</th>\n",
       "      <td>2675</td>\n",
       "      <td>Yeah that's a fact but I never been p****</td>\n",
       "      <td>0</td>\n",
       "      <td>rap</td>\n",
       "    </tr>\n",
       "  </tbody>\n",
       "</table>\n",
       "<p>2676 rows × 4 columns</p>\n",
       "</div>"
      ],
      "text/plain": [
       "        id                                              lyric  \\\n",
       "0        0                Now they know my name wherever I go   \n",
       "1        1  If your girl don't get it poppin' put me on yo...   \n",
       "2        2               P1 cleaner than your church shoes ah   \n",
       "3        3           Bodies start to drop ayy (Hit the floor)   \n",
       "4        4                     I don't look to the sky no mo'   \n",
       "...    ...                                                ...   \n",
       "2671  2671                  So tell me how deep is your love?   \n",
       "2672  2672                    If this is all we're living for   \n",
       "2673  2673  I'll never let up on the pedal might as well g...   \n",
       "2674  2674           Turned my temple down into a prison s***   \n",
       "2675  2675          Yeah that's a fact but I never been p****   \n",
       "\n",
       "      predicted_class predicted_genre  \n",
       "0                   1             pop  \n",
       "1                   1             pop  \n",
       "2                   1             pop  \n",
       "3                   0             rap  \n",
       "4                   0             rap  \n",
       "...               ...             ...  \n",
       "2671                1             pop  \n",
       "2672                1             pop  \n",
       "2673                0             rap  \n",
       "2674                0             rap  \n",
       "2675                0             rap  \n",
       "\n",
       "[2676 rows x 4 columns]"
      ]
     },
     "metadata": {},
     "output_type": "display_data"
    }
   ],
   "source": [
    "# Смотрим файл предсказаний\n",
    "df_test_with_predictions = pd.read_csv('test_with_predictions.csv', sep = ',')\n",
    "display(df_test_with_predictions)"
   ]
  },
  {
   "cell_type": "code",
   "execution_count": 18,
   "metadata": {},
   "outputs": [],
   "source": [
    "# Сохранение модели для экспорта\n",
    "model.save(\"model.keras\")"
   ]
  },
  {
   "cell_type": "markdown",
   "metadata": {},
   "source": [
    "<H1>Заключение</H1>"
   ]
  },
  {
   "cell_type": "markdown",
   "metadata": {},
   "source": [
    "<h2>\n",
    "Выводы <br>\n",
    "В ходе проектной деятельности мы создали LSTM - разновидность реккурентной нейронной сети (RNN) - которую смогли обучить бинарной классификации текстов песен с жанрами рэп и поп с хорошой точностью <br>\n",
    "Статистика обучения:\n",
    "<ul>\n",
    "    <li>Epoch 1/4 - AUC: 0.9853 - accuracy: 0.9433 - loss: 0.1472 - val_AUC: 0.9954 - val_accuracy: 0.9645 - val_loss: 0.0847</li>\n",
    "    <li>Epoch 2/4 - AUC: 0.9964 - accuracy: 0.9680 - loss: 0.0754 - val_AUC: 0.9957 - val_accuracy: 0.9659 - val_loss: 0.0799</li>\n",
    "    <li>Epoch 3/4 - AUC: 0.9976 - accuracy: 0.9741 - loss: 0.0605 - val_AUC: 0.9955 - val_accuracy: 0.9686 - val_loss: 0.0790</li>\n",
    "    <li>Epoch 4/4 - AUC: 0.9984 - accuracy: 0.9788 - loss: 0.0501 - val_AUC: 0.9952 - val_accuracy: 0.9708 - val_loss: 0.0794</li>\n",
    "</ul>\n",
    "Точность модели - 0.9688 <br>\n",
    "Работа модели (с пользовательским вводом текстов песен соответствующих жанров):\n",
    "</h2>"
   ]
  },
  {
   "cell_type": "code",
   "execution_count": 19,
   "metadata": {},
   "outputs": [
    {
     "name": "stdout",
     "output_type": "stream",
     "text": [
      "\u001b[1m1/1\u001b[0m \u001b[32m━━━━━━━━━━━━━━━━━━━━\u001b[0m\u001b[37m\u001b[0m \u001b[1m0s\u001b[0m 24ms/step\n",
      "Предсказанный жанр: rap\n",
      "\u001b[1m1/1\u001b[0m \u001b[32m━━━━━━━━━━━━━━━━━━━━\u001b[0m\u001b[37m\u001b[0m \u001b[1m0s\u001b[0m 67ms/step\n",
      "Предсказанный жанр: rap\n",
      "\u001b[1m1/1\u001b[0m \u001b[32m━━━━━━━━━━━━━━━━━━━━\u001b[0m\u001b[37m\u001b[0m \u001b[1m0s\u001b[0m 25ms/step\n",
      "Предсказанный жанр: rap\n",
      "\u001b[1m1/1\u001b[0m \u001b[32m━━━━━━━━━━━━━━━━━━━━\u001b[0m\u001b[37m\u001b[0m \u001b[1m0s\u001b[0m 22ms/step\n",
      "Предсказанный жанр: rap\n",
      "Завершение работы.\n"
     ]
    }
   ],
   "source": [
    "def predict_genre(text, model, tokenizer, max_len):\n",
    "    \"\"\"\n",
    "    Функция для предсказания жанра текста.\n",
    "    \n",
    "    Args:\n",
    "        text (str): Входной текст.\n",
    "        model (keras.Model): Обученная модель.\n",
    "        tokenizer (Tokenizer): Токенизатор, использованный при обучении.\n",
    "        max_len (int): Максимальная длина последовательности.\n",
    "    \n",
    "    Returns:\n",
    "        str: Предсказанный жанр (\"rap\" или \"pop\").\n",
    "    \"\"\"\n",
    "    # Предобработка текста\n",
    "    text_seq = tokenizer.texts_to_sequences([text])\n",
    "    text_pad = pad_sequences(text_seq, maxlen=max_len)\n",
    "    \n",
    "    # Предсказание\n",
    "    prediction = model.predict(text_pad)\n",
    "    genre = \"pop\" if prediction[0][0] > 0.5 else \"rap\"\n",
    "    \n",
    "    return genre\n",
    "\n",
    "# Пример использования\n",
    "while True:\n",
    "    input_text = input(\"Введите текст песни для предсказания (или 'ex' для выхода): \")\n",
    "    if input_text.lower() == \"ex\":\n",
    "        print(\"Завершение работы.\")\n",
    "        break\n",
    "    predicted_genre = predict_genre(input_text, model, tokenizer, max_len)\n",
    "    print(f\"Предсказанный жанр: {predicted_genre}\")\n",
    "\n"
   ]
  },
  {
   "cell_type": "markdown",
   "metadata": {},
   "source": [
    "<h1>Список источников</h1>\n",
    "<h2>\n",
    "<ol>\n",
    "    <li>https://www.kaggle.com/datasets/sshikamaru/music-genre-classification/data - Ссылка на датасет</li>\n",
    "    <li>https://nerdit.ru/deep-learning-for-nlp-anns-rnns-and-lstm-explained/ - Теория по качественной работе с NLP на ANN, RNN, LSTM</li>\n",
    "    <li>https://aws.amazon.com/ru/what-is/recurrent-neural-network/ - Теория по RNN/LSTM</li>\n",
    "    <li>https://dzen.ru/a/X99iLvWm9Cn8nL9f - RNN, LSTM - практическая реализация</li>\n",
    "</ol>\n",
    "</h2>"
   ]
  }
 ],
 "metadata": {
  "kernelspec": {
   "display_name": "Python 3",
   "language": "python",
   "name": "python3"
  },
  "language_info": {
   "codemirror_mode": {
    "name": "ipython",
    "version": 3
   },
   "file_extension": ".py",
   "mimetype": "text/x-python",
   "name": "python",
   "nbconvert_exporter": "python",
   "pygments_lexer": "ipython3",
   "version": "3.12.8"
  }
 },
 "nbformat": 4,
 "nbformat_minor": 2
}
